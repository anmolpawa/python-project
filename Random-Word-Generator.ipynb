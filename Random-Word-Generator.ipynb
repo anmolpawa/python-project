{
 "cells": [
  {
   "cell_type": "markdown",
   "metadata": {},
   "source": [
    "## Dreamz Coder"
   ]
  },
  {
   "cell_type": "markdown",
   "metadata": {},
   "source": [
    "# Random Word Generator"
   ]
  },
  {
   "cell_type": "markdown",
   "metadata": {},
   "source": [
    "###### In this game, there is a list of words present, out of which our interpreter will choose 1 random word. The user first has to input their names and then, will be asked to guess any alphabet. If the random word contains that alphabet, it will be shown as the output(with correct placement) else the program will ask you to guess another alphabet. User will be given 10 turns(can be changed accordingly) to guess the complete word."
   ]
  },
  {
   "cell_type": "markdown",
   "metadata": {},
   "source": [
    "First we have to import Random Library"
   ]
  },
  {
   "cell_type": "code",
   "execution_count": 1,
   "metadata": {},
   "outputs": [],
   "source": [
    "import random"
   ]
  },
  {
   "cell_type": "code",
   "execution_count": 2,
   "metadata": {},
   "outputs": [
    {
     "name": "stdout",
     "output_type": "stream",
     "text": [
      "What is your name: Dreamz coder\n",
      "Good luck ! Dreamz coder\n",
      "Guess the characters\n",
      "_\n",
      "_\n",
      "_\n",
      "_\n",
      "_\n",
      "guess a character: p\n",
      "_\n",
      "_\n",
      "_\n",
      "p\n",
      "_\n",
      "guess a character: g\n",
      "g\n",
      "_\n",
      "_\n",
      "p\n",
      "_\n",
      "guess a character: a\n",
      "g\n",
      "_\n",
      "a\n",
      "p\n",
      "_\n",
      "guess a character: r\n",
      "g\n",
      "r\n",
      "a\n",
      "p\n",
      "_\n",
      "guess a character: e\n",
      "g\n",
      "r\n",
      "a\n",
      "p\n",
      "e\n",
      "You win\n",
      "The word is:  grape\n"
     ]
    }
   ],
   "source": [
    "# user have to enter name and stored in name variable\n",
    "name = input(\"What is your name: \")\n",
    "\n",
    "# Now it print with \"Good luck !\" with name entered by user\n",
    "print(\"Good luck !\", name)\n",
    "\n",
    "# here we declare a list containing 12 fruit name\n",
    "words =['apple','mango','orange','kiwi','grape','pineapple','cherry','peach','guava','pear','strawberry','banana']\n",
    "\n",
    "# any random word will be choosen and stored in variable word\n",
    "word = random.choice(words)\n",
    "\n",
    "# it simply print the \"Guess the characters\"\n",
    "print(\"Guess the characters\")\n",
    "\n",
    "# initializes empty variable which stores character in word\n",
    "guesses = ''\n",
    "\n",
    "# it give 10 turns if entered wrong character\n",
    "turns = 10\n",
    "\n",
    "# initialize while loop with turns should be greater then 0\n",
    "while turns > 0:\n",
    "    \n",
    "    # failed variable is declared with 0\n",
    "    failed = 0\n",
    "    \n",
    "    # for loop is initialize for each character in word variable\n",
    "    for char in word:\n",
    "        \n",
    "        # check if entered character is in variable guesses\n",
    "        if char in guesses:\n",
    "            \n",
    "            # if correct then print character in place of \"_\"\n",
    "            print(char)\n",
    "            \n",
    "        # when if condition is failed else part get initialize\n",
    "        else:\n",
    "            \n",
    "            # then print \"_\" in each line for each character in word variable\n",
    "            print('_')\n",
    "            \n",
    "            # then it increment failed variable by 1\n",
    "            failed += 1\n",
    "            \n",
    "    # check if variable is equal to 0\n",
    "    if failed == 0:\n",
    "        \n",
    "        # when condition satisfied it print \"You win\"\n",
    "        print(\"You win\")\n",
    "        \n",
    "        # in next line it print \"The word is: \" followed by correct word\n",
    "        print(\"The word is: \", word)\n",
    "        \n",
    "        # then terminate while loop\n",
    "        break\n",
    "        \n",
    "    # user have to input a character and stored in guess variable\n",
    "    guess = input(\"guess a character: \")\n",
    "    \n",
    "    # then character is added to variable guesses\n",
    "    guesses += guess\n",
    "    \n",
    "    # check for character in guess is there in varaible word or not\n",
    "    if guess not in word:\n",
    "        \n",
    "        # if character is not in word it decrement turns by 1\n",
    "        turns -= 1\n",
    "        \n",
    "        # then print \"Wrong\"\n",
    "        print(\"Wrong\")\n",
    "        \n",
    "        # in next line it print \"You have\" followed by turns left after decrement then \"more guesses\"\n",
    "        print(\"You have\", + turns,'more guesses')\n",
    "        \n",
    "        # it check for turns are over\n",
    "        if turns ==0:\n",
    "            \n",
    "            # then it print \"You loose\" and program terminate\n",
    "            print(\"You Loose\")\n",
    "            "
   ]
  },
  {
   "cell_type": "code",
   "execution_count": null,
   "metadata": {},
   "outputs": [],
   "source": []
  }
 ],
 "metadata": {
  "kernelspec": {
   "display_name": "Python 3",
   "language": "python",
   "name": "python3"
  },
  "language_info": {
   "codemirror_mode": {
    "name": "ipython",
    "version": 3
   },
   "file_extension": ".py",
   "mimetype": "text/x-python",
   "name": "python",
   "nbconvert_exporter": "python",
   "pygments_lexer": "ipython3",
   "version": "3.8.5"
  }
 },
 "nbformat": 4,
 "nbformat_minor": 4
}
